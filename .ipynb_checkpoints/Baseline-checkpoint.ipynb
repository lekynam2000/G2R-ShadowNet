{
 "cells": [
  {
   "cell_type": "code",
   "execution_count": null,
   "id": "d5df4439",
   "metadata": {},
   "outputs": [
    {
     "name": "stdout",
     "output_type": "stream",
     "text": [
      "using GPU: 1\n",
      "Namespace(epoch=0, n_epochs=3, batchSize=1, lr=0.0002, decay_epoch=2, size=400, cuda=True, n_cpu=8, snapshot_epochs=1, iter_loss=100, gpu_id=1, output_dir='../G2R_baseline', dataroot='../dataset/g2rdata', log_path='../G2R_baseline/2023-02-20 19:02:06.227741.txt')\n",
      "  0%|          | 0/1330 [00:00<?, ?it/s]/media/ntu/volume1/home/s122md306_05/miniconda3/lib/python3.10/site-packages/torch/nn/modules/loss.py:536: UserWarning: Using a target size (torch.Size([1])) that is different to the input size (torch.Size([])). This will likely lead to incorrect results due to broadcasting. Please ensure they have the same size.\n",
      "  return F.mse_loss(input, target, reduction=self.reduction)\n",
      "/media/ntu/volume1/home/s122md306_05/miniconda3/lib/python3.10/site-packages/torch/nn/modules/loss.py:536: UserWarning: Using a target size (torch.Size([1])) that is different to the input size (torch.Size([])). This will likely lead to incorrect results due to broadcasting. Please ensure they have the same size.\n",
      "  return F.mse_loss(input, target, reduction=self.reduction)\n",
      "/media/ntu/volume1/home/s122md306_05/G2R-ShadowNet/custom_utils/plt_utils.py:8: RuntimeWarning: More than 20 figures have been opened. Figures created through the pyplot interface (`matplotlib.pyplot.figure`) are retained until explicitly closed and may consume too much memory. (To control this warning, see the rcParam `figure.max_open_warning`). Consider using `matplotlib.pyplot.close()`.\n",
      "  plt.figure(figsize=(10, 5))\n",
      " 27%|██▋       | 365/1330 [03:00<07:56,  2.02it/s]"
     ]
    }
   ],
   "source": [
    "!python3 train.py --gpu_id 1 --output_dir \"../G2R_baseline\" \\\n",
    "--n_epochs 3 --decay_epoch 2 --snapshot_epochs 1 \\\n",
    "2>&1 | tee ../g2r_baseline.log"
   ]
  },
  {
   "cell_type": "code",
   "execution_count": null,
   "id": "4fdbb896",
   "metadata": {},
   "outputs": [],
   "source": [
    "!python3 train.py --gpu_id 1 --output_dir \"../G2R_baseline\" \\\n",
    "2>&1 | tee ../g2r_baseline.log"
   ]
  }
 ],
 "metadata": {
  "kernelspec": {
   "display_name": "Python 3 (ipykernel)",
   "language": "python",
   "name": "python3"
  },
  "language_info": {
   "codemirror_mode": {
    "name": "ipython",
    "version": 3
   },
   "file_extension": ".py",
   "mimetype": "text/x-python",
   "name": "python",
   "nbconvert_exporter": "python",
   "pygments_lexer": "ipython3",
   "version": "3.10.8"
  }
 },
 "nbformat": 4,
 "nbformat_minor": 5
}
