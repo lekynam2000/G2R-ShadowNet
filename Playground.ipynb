{
 "cells": [
  {
   "cell_type": "code",
   "execution_count": null,
   "id": "26eec919",
   "metadata": {},
   "outputs": [
    {
     "name": "stdout",
     "output_type": "stream",
     "text": [
      "['/media/ntu/volume1/home/s122md306_05/G2R-ShadowNet', '/media/ntu/volume1/home/s122md306_05/miniconda3/lib/python310.zip', '/media/ntu/volume1/home/s122md306_05/miniconda3/lib/python3.10', '/media/ntu/volume1/home/s122md306_05/miniconda3/lib/python3.10/lib-dynload', '/media/ntu/volume1/home/s122md306_05/miniconda3/lib/python3.10/site-packages']\n",
      "using GPU: 1\n",
      "Namespace(epoch=0, n_epochs=50, batchSize=1, lr=0.0002, decay_epoch=30, size=400, cuda=True, n_cpu=8, snapshot_epochs=10, iter_loss=100, gpu_id=1, output_dir='output/test_replace', pretrained_BDRAR='../BDRAR/ckpt/BDRAR/3000.pth', dataroot='../dataset/ISTD_Dataset', log_path='output/test_replace/2023-03-15 18:04:59.826902.txt')\n",
      "  0%|          | 0/1330 [00:00<?, ?it/s]/media/ntu/volume1/home/s122md306_05/miniconda3/lib/python3.10/site-packages/torch/nn/functional.py:3734: UserWarning: nn.functional.upsample is deprecated. Use nn.functional.interpolate instead.\n",
      "  warnings.warn(\"nn.functional.upsample is deprecated. Use nn.functional.interpolate instead.\")\n",
      "/media/ntu/volume1/home/s122md306_05/miniconda3/lib/python3.10/site-packages/torch/nn/functional.py:1967: UserWarning: nn.functional.sigmoid is deprecated. Use torch.sigmoid instead.\n",
      "  warnings.warn(\"nn.functional.sigmoid is deprecated. Use torch.sigmoid instead.\")\n",
      " 32%|███▏      | 421/1330 [08:20<17:52,  1.18s/it]"
     ]
    }
   ],
   "source": [
    "!python -m replace_D_by_ShaDetect.train.py --gpu_id 1 \\\n",
    "--n_epochs 50 --snapshot_epochs 10 --decay_epoch 30 --output_dir output/test_replace\\\n",
    "2>&1 | tee ../replace_D_test.log"
   ]
  },
  {
   "cell_type": "code",
   "execution_count": null,
   "id": "322bb0fb",
   "metadata": {},
   "outputs": [],
   "source": []
  }
 ],
 "metadata": {
  "kernelspec": {
   "display_name": "Python 3 (ipykernel)",
   "language": "python",
   "name": "python3"
  },
  "language_info": {
   "codemirror_mode": {
    "name": "ipython",
    "version": 3
   },
   "file_extension": ".py",
   "mimetype": "text/x-python",
   "name": "python",
   "nbconvert_exporter": "python",
   "pygments_lexer": "ipython3",
   "version": "3.10.8"
  }
 },
 "nbformat": 4,
 "nbformat_minor": 5
}
