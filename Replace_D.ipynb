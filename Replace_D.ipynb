{
 "cells": [
  {
   "cell_type": "code",
   "execution_count": 23,
   "id": "67616b45",
   "metadata": {},
   "outputs": [
    {
     "name": "stdout",
     "output_type": "stream",
     "text": [
      "['/media/ntu/volume1/home/s122md306_05/G2R-ShadowNet', '/media/ntu/volume1/home/s122md306_05/miniconda3/lib/python310.zip', '/media/ntu/volume1/home/s122md306_05/miniconda3/lib/python3.10', '/media/ntu/volume1/home/s122md306_05/miniconda3/lib/python3.10/lib-dynload', '/media/ntu/volume1/home/s122md306_05/miniconda3/lib/python3.10/site-packages']\n",
      "using GPU: 0\n",
      "Namespace(epoch=0, n_epochs=100, batchSize=1, lr=0.0002, decay_epoch=50, size=400, cuda=True, n_cpu=8, snapshot_epochs=5, iter_loss=100, gpu_id=0, output_dir='output', pretrained_BDRAR='../BDRAR/ckpt/BDRAR/3000.pth', dataroot='../dataset/ISTD_Dataset', log_path='output/2023-03-14 03:29:37.277800.txt')\n",
      "  0%|                                                  | 0/1330 [00:02<?, ?it/s]\n",
      "Traceback (most recent call last):\n",
      "  File \"/media/ntu/volume1/home/s122md306_05/miniconda3/lib/python3.10/runpy.py\", line 187, in _run_module_as_main\n",
      "    mod_name, mod_spec, code = _get_module_details(mod_name, _Error)\n",
      "  File \"/media/ntu/volume1/home/s122md306_05/miniconda3/lib/python3.10/runpy.py\", line 110, in _get_module_details\n",
      "    __import__(pkg_name)\n",
      "  File \"/media/ntu/volume1/home/s122md306_05/G2R-ShadowNet/replace_D_by_ShaDetect/train.py\", line 132, in <module>\n",
      "    same_1 = netG(img1,mask1)\n",
      "  File \"/media/ntu/volume1/home/s122md306_05/miniconda3/lib/python3.10/site-packages/torch/nn/modules/module.py\", line 1194, in _call_impl\n",
      "    return forward_call(*input, **kwargs)\n",
      "  File \"/media/ntu/volume1/home/s122md306_05/G2R-ShadowNet/replace_D_by_ShaDetect/model_guided.py\", line 110, in forward\n",
      "    return (self.model(torch.cat((x, mask.cuda()), 1)) + x).tanh() #(min=-1, max=1) #just learn a residual\n",
      "  File \"/media/ntu/volume1/home/s122md306_05/miniconda3/lib/python3.10/site-packages/torch/nn/modules/module.py\", line 1194, in _call_impl\n",
      "    return forward_call(*input, **kwargs)\n",
      "  File \"/media/ntu/volume1/home/s122md306_05/miniconda3/lib/python3.10/site-packages/torch/nn/modules/container.py\", line 204, in forward\n",
      "    input = module(input)\n",
      "  File \"/media/ntu/volume1/home/s122md306_05/miniconda3/lib/python3.10/site-packages/torch/nn/modules/module.py\", line 1194, in _call_impl\n",
      "    return forward_call(*input, **kwargs)\n",
      "  File \"/media/ntu/volume1/home/s122md306_05/miniconda3/lib/python3.10/site-packages/torch/nn/modules/conv.py\", line 463, in forward\n",
      "    return self._conv_forward(input, self.weight, self.bias)\n",
      "  File \"/media/ntu/volume1/home/s122md306_05/miniconda3/lib/python3.10/site-packages/torch/nn/modules/conv.py\", line 459, in _conv_forward\n",
      "    return F.conv2d(input, weight, bias, self.stride,\n",
      "RuntimeError: Given groups=1, weight of size [64, 5, 7, 7], expected input[1, 4, 406, 406] to have 5 channels, but got 4 channels instead\n"
     ]
    }
   ],
   "source": [
    "!python -m replace_D_by_ShaDetect.train.py --gpu_id 0"
   ]
  },
  {
   "cell_type": "code",
   "execution_count": 5,
   "id": "32644063",
   "metadata": {},
   "outputs": [
    {
     "name": "stdout",
     "output_type": "stream",
     "text": [
      "attention_arch\t      evaluate\t      replace_D_by_ShaDetect\r\n",
      "Attention_arch.ipynb  evaluate.m      Replace_D.ipynb\r\n",
      "Baseline.ipynb\t      gettraindata.m  test.py\r\n",
      "BDRAR_util\t      model.py\t      train_attention.py\r\n",
      "custom_utils\t      __pycache__     train.py\r\n",
      "datasets.py\t      README.md       utils.py\r\n"
     ]
    }
   ],
   "source": [
    "!ls"
   ]
  },
  {
   "cell_type": "code",
   "execution_count": null,
   "id": "3a1aabae",
   "metadata": {},
   "outputs": [],
   "source": []
  }
 ],
 "metadata": {
  "kernelspec": {
   "display_name": "Python 3 (ipykernel)",
   "language": "python",
   "name": "python3"
  },
  "language_info": {
   "codemirror_mode": {
    "name": "ipython",
    "version": 3
   },
   "file_extension": ".py",
   "mimetype": "text/x-python",
   "name": "python",
   "nbconvert_exporter": "python",
   "pygments_lexer": "ipython3",
   "version": "3.10.8"
  }
 },
 "nbformat": 4,
 "nbformat_minor": 5
}
