{
 "cells": [
  {
   "cell_type": "code",
   "execution_count": null,
   "id": "67616b45",
   "metadata": {},
   "outputs": [
    {
     "name": "stdout",
     "output_type": "stream",
     "text": [
      "['/media/ntu/volume1/home/s122md306_05/G2R-ShadowNet', '/media/ntu/volume1/home/s122md306_05/miniconda3/lib/python310.zip', '/media/ntu/volume1/home/s122md306_05/miniconda3/lib/python3.10', '/media/ntu/volume1/home/s122md306_05/miniconda3/lib/python3.10/lib-dynload', '/media/ntu/volume1/home/s122md306_05/miniconda3/lib/python3.10/site-packages']\n",
      "using GPU: 0\n",
      "Namespace(epoch=0, n_epochs=100, batchSize=1, lr=0.0002, decay_epoch=50, size=400, cuda=True, n_cpu=8, snapshot_epochs=5, iter_loss=100, gpu_id=0, output_dir='output', pretrained_BDRAR='../BDRAR/ckpt/BDRAR/3000.pth', dataroot='../dataset/ISTD_Dataset', log_path='output/2023-03-14 23:30:21.452226.txt')\n",
      "  0%|          | 0/1330 [00:00<?, ?it/s]/media/ntu/volume1/home/s122md306_05/miniconda3/lib/python3.10/site-packages/torch/nn/functional.py:3734: UserWarning: nn.functional.upsample is deprecated. Use nn.functional.interpolate instead.\n",
      "  warnings.warn(\"nn.functional.upsample is deprecated. Use nn.functional.interpolate instead.\")\n",
      "/media/ntu/volume1/home/s122md306_05/miniconda3/lib/python3.10/site-packages/torch/nn/functional.py:1967: UserWarning: nn.functional.sigmoid is deprecated. Use torch.sigmoid instead.\n",
      "  warnings.warn(\"nn.functional.sigmoid is deprecated. Use torch.sigmoid instead.\")\n",
      " 95%|█████████▍| 1262/1330 [26:30<01:27,  1.29s/it]"
     ]
    }
   ],
   "source": [
    "!python -m replace_D_by_ShaDetect.train.py --gpu_id 0 \\\n",
    "2>&1 | tee ../replace_D.log"
   ]
  },
  {
   "cell_type": "code",
   "execution_count": 5,
   "id": "32644063",
   "metadata": {},
   "outputs": [
    {
     "name": "stdout",
     "output_type": "stream",
     "text": [
      "attention_arch\t      evaluate\t      replace_D_by_ShaDetect\r\n",
      "Attention_arch.ipynb  evaluate.m      Replace_D.ipynb\r\n",
      "Baseline.ipynb\t      gettraindata.m  test.py\r\n",
      "BDRAR_util\t      model.py\t      train_attention.py\r\n",
      "custom_utils\t      __pycache__     train.py\r\n",
      "datasets.py\t      README.md       utils.py\r\n"
     ]
    }
   ],
   "source": [
    "!ls"
   ]
  },
  {
   "cell_type": "code",
   "execution_count": null,
   "id": "3a1aabae",
   "metadata": {},
   "outputs": [],
   "source": []
  }
 ],
 "metadata": {
  "kernelspec": {
   "display_name": "Python 3 (ipykernel)",
   "language": "python",
   "name": "python3"
  },
  "language_info": {
   "codemirror_mode": {
    "name": "ipython",
    "version": 3
   },
   "file_extension": ".py",
   "mimetype": "text/x-python",
   "name": "python",
   "nbconvert_exporter": "python",
   "pygments_lexer": "ipython3",
   "version": "3.10.8"
  }
 },
 "nbformat": 4,
 "nbformat_minor": 5
}
